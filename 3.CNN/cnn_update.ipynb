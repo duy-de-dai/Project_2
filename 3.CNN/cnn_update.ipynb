{
  "nbformat": 4,
  "nbformat_minor": 0,
  "metadata": {
    "colab": {
      "provenance": []
    },
    "kernelspec": {
      "name": "python3",
      "display_name": "Python 3"
    },
    "language_info": {
      "name": "python"
    }
  },
  "cells": [
    {
      "cell_type": "markdown",
      "source": [
        "import library"
      ],
      "metadata": {
        "id": "EBNPVQRpvUbU"
      }
    },
    {
      "cell_type": "code",
      "execution_count": null,
      "metadata": {
        "id": "-UQd8m4iO_UA"
      },
      "outputs": [],
      "source": [
        "from tensorflow.keras.preprocessing.image import ImageDataGenerator\n",
        "from tensorflow.keras.preprocessing import image\n",
        "import matplotlib.pyplot as plt\n",
        "import tensorflow as tf\n",
        "import cv2 as cv\n",
        "import numpy as np"
      ]
    },
    {
      "cell_type": "code",
      "source": [
        "from google.colab import drive\n",
        "drive.mount('/content/drive')"
      ],
      "metadata": {
        "colab": {
          "base_uri": "https://localhost:8080/"
        },
        "id": "aBprgbx81v7u",
        "outputId": "a28a6d42-6965-49aa-b1d6-314a0c9c10d0"
      },
      "execution_count": null,
      "outputs": [
        {
          "output_type": "stream",
          "name": "stdout",
          "text": [
            "Mounted at /content/drive\n"
          ]
        }
      ]
    },
    {
      "cell_type": "code",
      "source": [
        "from google.colab import files\n"
      ],
      "metadata": {
        "id": "rxMsSl4xmsW6"
      },
      "execution_count": null,
      "outputs": []
    },
    {
      "cell_type": "code",
      "source": [
        "files.download('/content/my_model')"
      ],
      "metadata": {
        "id": "Mm_sDBq4nkpo",
        "outputId": "99a166a3-c87a-4b30-9dbe-9ce44d03b938",
        "colab": {
          "base_uri": "https://localhost:8080/",
          "height": 34
        }
      },
      "execution_count": null,
      "outputs": [
        {
          "output_type": "display_data",
          "data": {
            "text/plain": [
              "<IPython.core.display.Javascript object>"
            ],
            "application/javascript": [
              "\n",
              "    async function download(id, filename, size) {\n",
              "      if (!google.colab.kernel.accessAllowed) {\n",
              "        return;\n",
              "      }\n",
              "      const div = document.createElement('div');\n",
              "      const label = document.createElement('label');\n",
              "      label.textContent = `Downloading \"${filename}\": `;\n",
              "      div.appendChild(label);\n",
              "      const progress = document.createElement('progress');\n",
              "      progress.max = size;\n",
              "      div.appendChild(progress);\n",
              "      document.body.appendChild(div);\n",
              "\n",
              "      const buffers = [];\n",
              "      let downloaded = 0;\n",
              "\n",
              "      const channel = await google.colab.kernel.comms.open(id);\n",
              "      // Send a message to notify the kernel that we're ready.\n",
              "      channel.send({})\n",
              "\n",
              "      for await (const message of channel.messages) {\n",
              "        // Send a message to notify the kernel that we're ready.\n",
              "        channel.send({})\n",
              "        if (message.buffers) {\n",
              "          for (const buffer of message.buffers) {\n",
              "            buffers.push(buffer);\n",
              "            downloaded += buffer.byteLength;\n",
              "            progress.value = downloaded;\n",
              "          }\n",
              "        }\n",
              "      }\n",
              "      const blob = new Blob(buffers, {type: 'application/binary'});\n",
              "      const a = document.createElement('a');\n",
              "      a.href = window.URL.createObjectURL(blob);\n",
              "      a.download = filename;\n",
              "      div.appendChild(a);\n",
              "      a.click();\n",
              "      div.remove();\n",
              "    }\n",
              "  "
            ]
          },
          "metadata": {}
        },
        {
          "output_type": "display_data",
          "data": {
            "text/plain": [
              "<IPython.core.display.Javascript object>"
            ],
            "application/javascript": [
              "download(\"download_095ad653-0b7d-447f-9dc6-e11ebb2f0599\", \"my_model\", 4096)"
            ]
          },
          "metadata": {}
        }
      ]
    },
    {
      "cell_type": "markdown",
      "source": [
        "prepare dataset, rescale, split dataset ,..."
      ],
      "metadata": {
        "id": "5gMK9Nc2HYS2"
      }
    },
    {
      "cell_type": "code",
      "source": [
        "train_path = \"/content/drive/MyDrive/data\"\n",
        "\n",
        "train_datagen = ImageDataGenerator(\n",
        "    rescale = 1./255,\n",
        "    shear_range = 0.2,\n",
        "    zoom_range = 0.2,\n",
        "    validation_split = 0.25\n",
        ")\n",
        "train_set = train_datagen.flow_from_directory(\n",
        "    train_path,\n",
        "    target_size = (25, 25),\n",
        "    color_mode = 'grayscale',\n",
        "    batch_size = 32,\n",
        "    class_mode = 'categorical',\n",
        "    classes = ['0', '1', '2', '3','4', '5', '6', '7', '8', '9'],\n",
        "    shuffle = True,\n",
        "    subset='training',\n",
        "    seed = 123\n",
        ")\n",
        "\n",
        "test_set = train_datagen.flow_from_directory(\n",
        "    train_path,\n",
        "    target_size = (25, 25),\n",
        "    color_mode = 'grayscale',\n",
        "    batch_size = 32,\n",
        "    class_mode = 'categorical',\n",
        "    classes = ['0', '1', '2', '3','4', '5', '6', '7', '8', '9'],\n",
        "    shuffle = True,\n",
        "    subset='validation',\n",
        "    seed = 123\n",
        ")"
      ],
      "metadata": {
        "colab": {
          "base_uri": "https://localhost:8080/"
        },
        "id": "GL2teaIOPi1J",
        "outputId": "99ae295a-955a-4749-9681-562f2be5e82e"
      },
      "execution_count": null,
      "outputs": [
        {
          "output_type": "stream",
          "name": "stdout",
          "text": [
            "Found 2913 images belonging to 10 classes.\n",
            "Found 965 images belonging to 10 classes.\n"
          ]
        }
      ]
    },
    {
      "cell_type": "markdown",
      "source": [
        "define 10 cái lớp sẽ detect"
      ],
      "metadata": {
        "id": "mgDWhA5nHfJx"
      }
    },
    {
      "cell_type": "code",
      "source": [
        "def symbol(ind):\n",
        "    symbols = ['α',\n",
        "\t       'β',\n",
        "\t\t   'γ',\n",
        "\t\t   'δ',\n",
        "\t\t   'λ',\n",
        "\t\t   'μ',\n",
        "\t\t   'Ω',\n",
        "\t\t   'π',\n",
        "\t\t   'φ',\n",
        "\t\t\t'θ']\n",
        "    symb = symbols[ind.argmax()]\n",
        "    return symb"
      ],
      "metadata": {
        "id": "XgXSB8hgPprC"
      },
      "execution_count": null,
      "outputs": []
    },
    {
      "cell_type": "markdown",
      "source": [
        "plot ảnh thui kcg đâu :>\n"
      ],
      "metadata": {
        "id": "pRAw9HY_HloM"
      }
    },
    {
      "cell_type": "code",
      "source": [
        "imgs, labels = next(train_set)\n",
        "\n",
        "def plotImages(images_arr):\n",
        "    fig, axes = plt.subplots(1, 10, figsize = (20,20))\n",
        "    axes = axes.flatten()\n",
        "    for img, ax in zip(images_arr, axes):\n",
        "        ax.imshow(cv.cvtColor(img, cv.COLOR_RGB2BGR))\n",
        "        ax.axis('off')\n",
        "    plt.tight_layout()\n",
        "    plt.show()\n",
        "\n",
        "plotImages(imgs)\n",
        "for i in range(10):\n",
        "    print(symbol(labels[i]))"
      ],
      "metadata": {
        "id": "v7toqkZjPsMG",
        "colab": {
          "base_uri": "https://localhost:8080/",
          "height": 343
        },
        "outputId": "b8999cb2-6e59-4237-8cff-414e704845d0"
      },
      "execution_count": null,
      "outputs": [
        {
          "output_type": "display_data",
          "data": {
            "text/plain": [
              "<Figure size 2000x2000 with 10 Axes>"
            ],
            "image/png": "[encoded data removed]"
          },
          "metadata": {}
        },
        {
          "output_type": "stream",
          "name": "stdout",
          "text": [
            "Ω\n",
            "α\n",
            "γ\n",
            "α\n",
            "λ\n",
            "π\n",
            "μ\n",
            "θ\n",
            "φ\n",
            "φ\n"
          ]
        }
      ]
    },
    {
      "cell_type": "code",
      "source": [
        "# Now each image rows and columns are of 28x28 matrix type.\n",
        "img_rows, img_columns = 25, 25\n",
        "\n",
        "# Transform training and testing data to 10 classes in range [0,classes] ; num. of classes = 0 to 9 = 10 classes\n",
        "total_classes = 10\t\t\t# 0 to 9 labels\n"
      ],
      "metadata": {
        "id": "G3XfnBIFTt3X"
      },
      "execution_count": null,
      "outputs": []
    },
    {
      "cell_type": "markdown",
      "source": [
        "build model\n"
      ],
      "metadata": {
        "id": "cEcknoQgHrtZ"
      }
    },
    {
      "cell_type": "code",
      "source": [
        "model = tf.keras.models.Sequential()\n",
        "\n",
        "# First Convolutional Block\n",
        "model.add(tf.keras.layers.Conv2D(filters=32, kernel_size=(3,3), padding='same', activation='relu', input_shape=(img_rows, img_columns, 1)))\n",
        "model.add(tf.keras.layers.MaxPool2D(strides=2))\n",
        "\n",
        "# Second Convolutional Block\n",
        "model.add(tf.keras.layers.Conv2D(filters=48, kernel_size=(3,3), padding='valid', activation='relu'))\n",
        "model.add(tf.keras.layers.MaxPool2D(strides=2))\n",
        "\n",
        "# Classifier Head\n",
        "model.add(tf.keras.layers.Flatten())\n",
        "model.add(tf.keras.layers.Dense(256, activation='relu'))\n",
        "model.add(tf.keras.layers.Dense(84, activation='relu'))\n",
        "model.add(tf.keras.layers.Dense(total_classes, activation='softmax'))"
      ],
      "metadata": {
        "id": "amjHEUrnPw_F"
      },
      "execution_count": null,
      "outputs": []
    },
    {
      "cell_type": "code",
      "source": [
        "model.summary()"
      ],
      "metadata": {
        "colab": {
          "base_uri": "https://localhost:8080/"
        },
        "id": "HoqG-3fzP4ym",
        "outputId": "e9a2eaa3-4c1e-4870-d5d1-78b206523455"
      },
      "execution_count": null,
      "outputs": [
        {
          "output_type": "stream",
          "name": "stdout",
          "text": [
            "Model: \"sequential\"\n",
            "_________________________________________________________________\n",
            " Layer (type)                Output Shape              Param #   \n",
            "=================================================================\n",
            " conv2d (Conv2D)             (None, 25, 25, 32)        320       \n",
            "                                                                 \n",
            " max_pooling2d (MaxPooling2D  (None, 12, 12, 32)       0         \n",
            " )                                                               \n",
            "                                                                 \n",
            " conv2d_1 (Conv2D)           (None, 10, 10, 48)        13872     \n",
            "                                                                 \n",
            " max_pooling2d_1 (MaxPooling  (None, 5, 5, 48)         0         \n",
            " 2D)                                                             \n",
            "                                                                 \n",
            " flatten (Flatten)           (None, 1200)              0         \n",
            "                                                                 \n",
            " dense (Dense)               (None, 256)               307456    \n",
            "                                                                 \n",
            " dense_1 (Dense)             (None, 84)                21588     \n",
            "                                                                 \n",
            " dense_2 (Dense)             (None, 10)                850       \n",
            "                                                                 \n",
            "=================================================================\n",
            "Total params: 344,086\n",
            "Trainable params: 344,086\n",
            "Non-trainable params: 0\n",
            "_________________________________________________________________\n"
          ]
        }
      ]
    },
    {
      "cell_type": "code",
      "source": [
        "adam = tf.keras.optimizers.Adam(learning_rate = 5e-4)\n",
        "model.compile(optimizer = adam, loss = 'categorical_crossentropy', metrics = ['accuracy'])"
      ],
      "metadata": {
        "id": "kHjhtBB1P7tW"
      },
      "execution_count": null,
      "outputs": []
    },
    {
      "cell_type": "markdown",
      "source": [
        "training"
      ],
      "metadata": {
        "id": "uA_TQPI_Husr"
      }
    },
    {
      "cell_type": "code",
      "source": [
        "b_size = 128\t\t# Batch size\n",
        "num_epoch = 20\t\t# Number of epochs\n",
        "verb = 1\t\t\t# Verbose"
      ],
      "metadata": {
        "id": "3e8ratVhU46B"
      },
      "execution_count": null,
      "outputs": []
    },
    {
      "cell_type": "code",
      "source": [
        "model.fit(train_set, validation_data = test_set, epochs = 20)"
      ],
      "metadata": {
        "id": "FvVKcAyLQE_y",
        "colab": {
          "base_uri": "https://localhost:8080/"
        },
        "outputId": "f118b4ca-6759-48a7-9930-56beed11f776"
      },
      "execution_count": null,
      "outputs": [
        {
          "output_type": "stream",
          "name": "stdout",
          "text": [
            "Epoch 1/20\n",
            "92/92 [==============================] - 1162s 13s/step - loss: 2.2551 - accuracy: 0.1953 - val_loss: 2.1495 - val_accuracy: 0.2694\n",
            "Epoch 2/20\n",
            "92/92 [==============================] - 7s 71ms/step - loss: 1.7375 - accuracy: 0.3986 - val_loss: 1.7655 - val_accuracy: 0.3865\n",
            "Epoch 3/20\n",
            "92/92 [==============================] - 7s 75ms/step - loss: 1.2959 - accuracy: 0.5654 - val_loss: 1.4725 - val_accuracy: 0.4974\n",
            "Epoch 4/20\n",
            "92/92 [==============================] - 7s 73ms/step - loss: 0.9910 - accuracy: 0.6787 - val_loss: 1.2283 - val_accuracy: 0.5969\n",
            "Epoch 5/20\n",
            "92/92 [==============================] - 7s 74ms/step - loss: 0.7430 - accuracy: 0.7666 - val_loss: 1.0176 - val_accuracy: 0.6684\n",
            "Epoch 6/20\n",
            "92/92 [==============================] - 7s 74ms/step - loss: 0.5484 - accuracy: 0.8366 - val_loss: 0.8501 - val_accuracy: 0.7368\n",
            "Epoch 7/20\n",
            "92/92 [==============================] - 8s 83ms/step - loss: 0.4395 - accuracy: 0.8678 - val_loss: 0.6962 - val_accuracy: 0.7979\n",
            "Epoch 8/20\n",
            "92/92 [==============================] - 6s 69ms/step - loss: 0.3449 - accuracy: 0.9032 - val_loss: 0.7198 - val_accuracy: 0.7803\n",
            "Epoch 9/20\n",
            "92/92 [==============================] - 7s 72ms/step - loss: 0.2899 - accuracy: 0.9162 - val_loss: 0.6043 - val_accuracy: 0.8321\n",
            "Epoch 10/20\n",
            "92/92 [==============================] - 7s 72ms/step - loss: 0.2513 - accuracy: 0.9238 - val_loss: 0.5924 - val_accuracy: 0.8280\n",
            "Epoch 11/20\n",
            "92/92 [==============================] - 7s 78ms/step - loss: 0.2018 - accuracy: 0.9434 - val_loss: 0.5004 - val_accuracy: 0.8477\n",
            "Epoch 12/20\n",
            "92/92 [==============================] - 7s 76ms/step - loss: 0.1913 - accuracy: 0.9451 - val_loss: 0.5369 - val_accuracy: 0.8415\n",
            "Epoch 13/20\n",
            "92/92 [==============================] - 6s 69ms/step - loss: 0.1664 - accuracy: 0.9509 - val_loss: 0.5619 - val_accuracy: 0.8280\n",
            "Epoch 14/20\n",
            "92/92 [==============================] - 7s 78ms/step - loss: 0.1841 - accuracy: 0.9447 - val_loss: 0.5089 - val_accuracy: 0.8518\n",
            "Epoch 15/20\n",
            "92/92 [==============================] - 7s 72ms/step - loss: 0.1250 - accuracy: 0.9653 - val_loss: 0.4609 - val_accuracy: 0.8528\n",
            "Epoch 16/20\n",
            "92/92 [==============================] - 6s 70ms/step - loss: 0.1208 - accuracy: 0.9616 - val_loss: 0.4875 - val_accuracy: 0.8642\n",
            "Epoch 17/20\n",
            "92/92 [==============================] - 8s 82ms/step - loss: 0.1128 - accuracy: 0.9657 - val_loss: 0.5590 - val_accuracy: 0.8301\n",
            "Epoch 18/20\n",
            "92/92 [==============================] - 7s 73ms/step - loss: 0.1123 - accuracy: 0.9677 - val_loss: 0.5228 - val_accuracy: 0.8570\n",
            "Epoch 19/20\n",
            "92/92 [==============================] - 8s 90ms/step - loss: 0.0913 - accuracy: 0.9701 - val_loss: 0.3989 - val_accuracy: 0.8964\n",
            "Epoch 20/20\n",
            "92/92 [==============================] - 7s 79ms/step - loss: 0.0798 - accuracy: 0.9749 - val_loss: 0.5073 - val_accuracy: 0.8508\n"
          ]
        },
        {
          "output_type": "execute_result",
          "data": {
            "text/plain": [
              "<keras.callbacks.History at 0x7f84a68e80d0>"
            ]
          },
          "metadata": {},
          "execution_count": 11
        }
      ]
    },
    {
      "cell_type": "code",
      "source": [
        "model.save('my_model.h5')"
      ],
      "metadata": {
        "id": "c2gyqTtbb8iG"
      },
      "execution_count": 67,
      "outputs": []
    },
    {
      "cell_type": "code",
      "source": [
        "new_model = tf.keras.models.load_model('/content/my_model.h5')\n",
        "new_model.summary()"
      ],
      "metadata": {
        "id": "Mn5OsSX3dV_P",
        "outputId": "fbb7a2a7-df11-44a5-925f-72fc3fa556e3",
        "colab": {
          "base_uri": "https://localhost:8080/"
        }
      },
      "execution_count": 68,
      "outputs": [
        {
          "output_type": "stream",
          "name": "stdout",
          "text": [
            "Model: \"sequential\"\n",
            "_________________________________________________________________\n",
            " Layer (type)                Output Shape              Param #   \n",
            "=================================================================\n",
            " conv2d (Conv2D)             (None, 25, 25, 32)        320       \n",
            "                                                                 \n",
            " max_pooling2d (MaxPooling2D  (None, 12, 12, 32)       0         \n",
            " )                                                               \n",
            "                                                                 \n",
            " conv2d_1 (Conv2D)           (None, 10, 10, 48)        13872     \n",
            "                                                                 \n",
            " max_pooling2d_1 (MaxPooling  (None, 5, 5, 48)         0         \n",
            " 2D)                                                             \n",
            "                                                                 \n",
            " flatten (Flatten)           (None, 1200)              0         \n",
            "                                                                 \n",
            " dense (Dense)               (None, 256)               307456    \n",
            "                                                                 \n",
            " dense_1 (Dense)             (None, 84)                21588     \n",
            "                                                                 \n",
            " dense_2 (Dense)             (None, 10)                850       \n",
            "                                                                 \n",
            "=================================================================\n",
            "Total params: 344,086\n",
            "Trainable params: 344,086\n",
            "Non-trainable params: 0\n",
            "_________________________________________________________________\n"
          ]
        }
      ]
    },
    {
      "cell_type": "code",
      "source": [
        "loss, acc = new_model.evaluate(test_set, verbose=2)\n",
        "print('Restored model, accuracy: {:5.2f}%'.format(100 * acc))"
      ],
      "metadata": {
        "colab": {
          "base_uri": "https://localhost:8080/"
        },
        "id": "Y_T5RBphddDS",
        "outputId": "c5849643-c77c-472c-8fd6-d6ad6b8bcc9c"
      },
      "execution_count": null,
      "outputs": [
        {
          "output_type": "stream",
          "name": "stdout",
          "text": [
            "31/31 - 3s - loss: 0.5312 - accuracy: 0.8528 - 3s/epoch - 96ms/step\n",
            "Restored model, accuracy: 85.28%\n"
          ]
        }
      ]
    },
    {
      "cell_type": "markdown",
      "source": [
        "predict\n"
      ],
      "metadata": {
        "id": "G6CoH9bgmdgW"
      }
    },
    {
      "cell_type": "code",
      "source": [
        "def prediction(image_path):\n",
        "    img = cv.imread(image_path, cv.IMREAD_GRAYSCALE)\n",
        "    plt.imshow(img, cmap = 'gray')\n",
        "    img = cv.resize(img,(25, 25))\n",
        "    norm_image = cv.normalize(img, None, alpha = 0, beta = 1, norm_type = cv.NORM_MINMAX, dtype = cv.CV_32F)\n",
        "    norm_image = norm_image.reshape((norm_image.shape[0], norm_image.shape[1], 1))\n",
        "    case = np.asarray([norm_image])\n",
        "    pred = model.predict([case])\n",
        "\n",
        "    return 'Prediction: ' + symbol(pred)"
      ],
      "metadata": {
        "id": "vXx-NvbFj5Vv"
      },
      "execution_count": null,
      "outputs": []
    },
    {
      "cell_type": "code",
      "source": [
        "prediction('/content/drive/MyDrive/data/1/1 (1).png')"
      ],
      "metadata": {
        "colab": {
          "base_uri": "https://localhost:8080/",
          "height": 466
        },
        "id": "FuWTgUf8mCnJ",
        "outputId": "e99f6969-c2de-4872-ce55-a77d1d1de549"
      },
      "execution_count": null,
      "outputs": [
        {
          "output_type": "stream",
          "name": "stdout",
          "text": [
            "1/1 [==============================] - 0s 14ms/step\n"
          ]
        },
        {
          "output_type": "execute_result",
          "data": {
            "text/plain": [
              "'Prediction: β'"
            ],
            "application/vnd.google.colaboratory.intrinsic+json": {
              "type": "string"
            }
          },
          "metadata": {},
          "execution_count": 54
        },
        {
          "output_type": "display_data",
          "data": {
            "text/plain": [
              "<Figure size 640x480 with 1 Axes>"
            ],
            "image/png": "[encoded data removed]"
          },
          "metadata": {}
        }
      ]
    }
  ]
}